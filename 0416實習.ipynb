{
  "nbformat": 4,
  "nbformat_minor": 0,
  "metadata": {
    "colab": {
      "name": "0416實習.ipynb",
      "provenance": [],
      "authorship_tag": "ABX9TyN/hgYZyUZIIdYdhNTQwbli",
      "include_colab_link": true
    },
    "kernelspec": {
      "name": "python3",
      "display_name": "Python 3"
    },
    "language_info": {
      "name": "python"
    }
  },
  "cells": [
    {
      "cell_type": "markdown",
      "metadata": {
        "id": "view-in-github",
        "colab_type": "text"
      },
      "source": [
        "<a href=\"https://colab.research.google.com/github/sandrachu/Introduction-to-Computers/blob/main/0416%E5%AF%A6%E7%BF%92.ipynb\" target=\"_parent\"><img src=\"https://colab.research.google.com/assets/colab-badge.svg\" alt=\"Open In Colab\"/></a>"
      ]
    },
    {
      "cell_type": "code",
      "execution_count": 5,
      "metadata": {
        "colab": {
          "base_uri": "https://localhost:8080/"
        },
        "id": "ITJWpSIy0FdF",
        "outputId": "48eba8fb-6a45-4998-eda1-b8db3193f2d1"
      },
      "outputs": [
        {
          "output_type": "stream",
          "name": "stdout",
          "text": [
            "消費者擁有的金額150\n",
            "可購買手機\n"
          ]
        }
      ],
      "source": [
        "money=int(input(\"消費者擁有的金額\"))\n",
        "if(money<100):\n",
        "    print(\"金額不足\")\n",
        "elif(money>100 and money<200):\n",
        "    print(\"可購買手機\")\n",
        "elif(money>200 and money<300):\n",
        "    print(\"可購買平板\")\n",
        "elif(money>300 and money<400):\n",
        "    print(\"可購買電腦\")"
      ]
    },
    {
      "cell_type": "code",
      "source": [
        ""
      ],
      "metadata": {
        "id": "FPsE9RgR45hj"
      },
      "execution_count": null,
      "outputs": []
    }
  ]
}