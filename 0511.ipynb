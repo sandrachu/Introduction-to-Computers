{
  "nbformat": 4,
  "nbformat_minor": 0,
  "metadata": {
    "colab": {
      "name": "0511.ipynb",
      "provenance": [],
      "authorship_tag": "ABX9TyMiOcKmykK1YotL8nslDNdD",
      "include_colab_link": true
    },
    "kernelspec": {
      "name": "python3",
      "display_name": "Python 3"
    },
    "language_info": {
      "name": "python"
    }
  },
  "cells": [
    {
      "cell_type": "markdown",
      "metadata": {
        "id": "view-in-github",
        "colab_type": "text"
      },
      "source": [
        "<a href=\"https://colab.research.google.com/github/sandrachu/Introduction-to-Computers/blob/main/0511.ipynb\" target=\"_parent\"><img src=\"https://colab.research.google.com/assets/colab-badge.svg\" alt=\"Open In Colab\"/></a>"
      ]
    },
    {
      "cell_type": "code",
      "execution_count": 2,
      "metadata": {
        "colab": {
          "base_uri": "https://localhost:8080/"
        },
        "id": "k-DDxBESg_HL",
        "outputId": "181a0bb0-ea91-42bb-911e-6a3020c284e6"
      },
      "outputs": [
        {
          "output_type": "stream",
          "name": "stdout",
          "text": [
            "請輸入你的體溫:36.8\n",
            "體溫正常!\n"
          ]
        }
      ],
      "source": [
        "temp=float(input('請輸入你的體溫:'))\n",
        "if temp>=37.5:\n",
        "    print('體溫過高!')\n",
        "elif temp>=37 and temp<=37.4:\n",
        "    print('體溫略高!')\n",
        "elif temp>=34 and temp<=36.9:\n",
        "    print('體溫正常!')\n",
        "else:\n",
        "    print('體溫異常，請重新量測!')"
      ]
    },
    {
      "cell_type": "code",
      "source": [
        "money=int(input('請輸入購物金額:'))\n",
        "if(money>=10000):\n",
        " if(money>=100000):\n",
        "    print('八折',money*0.8,end=\"元\\n\")\n",
        " elif(money>=50000):\n",
        "    print('八五折',money*0.85,end=\"元\\n\")\n",
        " elif(money>=30000):\n",
        "    print('九折',money*0.9,end=\"元\\n\")   \n",
        " else:\n",
        "    print('九五折',money*0.95,end=\"元\\n\")  \n",
        "else:\n",
        "    print('沒打折',money,end=\"元\\n\")\n",
        "    "
      ],
      "metadata": {
        "colab": {
          "base_uri": "https://localhost:8080/"
        },
        "id": "y0cDe5cpk63f",
        "outputId": "c9c53476-7bbe-4583-c275-3415307278f1"
      },
      "execution_count": 22,
      "outputs": [
        {
          "output_type": "stream",
          "name": "stdout",
          "text": [
            "請輸入購物金額:20000\n",
            "九五折 19000.0元\n"
          ]
        }
      ]
    },
    {
      "cell_type": "code",
      "source": [
        "score=int(input('請輸入成績'))\n",
        "if(score>=90):\n",
        "    print('A')\n",
        "elif(score>=80 and score<=89):\n",
        "    print('B')\n",
        "elif(score>=70 and score<=79):\n",
        "    print('C')\n",
        "elif(score>=60 and score<=69):\n",
        "    print('D')\n",
        "else:\n",
        "    print('E')"
      ],
      "metadata": {
        "colab": {
          "base_uri": "https://localhost:8080/"
        },
        "id": "ew2XzDFdouTr",
        "outputId": "800c4a66-47f3-4b7c-c426-0d497a0fc17e"
      },
      "execution_count": 2,
      "outputs": [
        {
          "output_type": "stream",
          "name": "stdout",
          "text": [
            "請輸入成績87\n",
            "B\n"
          ]
        }
      ]
    },
    {
      "cell_type": "code",
      "source": [
        "season=int(input('請輸入月份'))\n",
        "if(season==3 or season==4 or season==5):\n",
        "    print(season,'月是春天!',sep='')   \n",
        "elif(season==6 or season==7 or season==8):   \n",
        "    print(season,'月是夏天!',sep='')\n",
        "elif(season==9 or season==10 or season==11):\n",
        "    print(season,'月是秋天!',sep='') \n",
        "elif(season==12 or season==1 or season==2): \n",
        "    print(season,'月是冬天!',sep='')    \n",
        "else:\n",
        "    print('月份不在範圍內!')"
      ],
      "metadata": {
        "colab": {
          "base_uri": "https://localhost:8080/"
        },
        "id": "e8q8SvRywwc2",
        "outputId": "0dbb3853-f031-4d95-8dc8-e35b70e5f020"
      },
      "execution_count": 42,
      "outputs": [
        {
          "output_type": "stream",
          "name": "stdout",
          "text": [
            "請輸入月份7\n",
            "7月是夏天!\n"
          ]
        }
      ]
    },
    {
      "cell_type": "code",
      "source": [
        "money=float(input('請輸入今年收入淨額:'))\n",
        "if(money>=300000):\n",
        " if(money>=2000000):\n",
        "    print('付稅金額:',money*0.3,'元')\n",
        " \n",
        " elif(money>=1000000):\n",
        "    print('付稅金額:',money*0.21,'元')\n",
        " elif(money>=600000):\n",
        "    print('付稅金額:',money*0.13,'元')\n",
        " else:\n",
        "    print('付稅金額:',money*0.06,'元')\n",
        "else:\n",
        "    print('付稅金額:0元')"
      ],
      "metadata": {
        "colab": {
          "base_uri": "https://localhost:8080/"
        },
        "id": "Hf6UznTRu2t9",
        "outputId": "4103fc2a-3521-4a9b-ca1a-befc943f4057"
      },
      "execution_count": 24,
      "outputs": [
        {
          "output_type": "stream",
          "name": "stdout",
          "text": [
            "請輸入今年收入淨額:1800000\n",
            "付稅金額: 378000.0 元\n"
          ]
        }
      ]
    }
  ]
}